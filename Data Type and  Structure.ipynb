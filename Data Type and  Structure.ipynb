{
 "cells": [
  {
   "cell_type": "markdown",
   "id": "30b583ec153745a7",
   "metadata": {},
   "source": [
    "# **Data Type And Structure**"
   ]
  },
  {
   "cell_type": "markdown",
   "id": "fdbfdae34cc0ec50",
   "metadata": {},
   "source": [
    "### Theoretical Questions"
   ]
  },
  {
   "cell_type": "markdown",
   "id": "83cf565b6bd0e5a9",
   "metadata": {},
   "source": [
    "1. What are data structures, and why are they important ?\n",
    "\n",
    "    - Data structures are organized ways to store and manage data efficiently, helping in storing,\n",
    "     retrieving, and modifying information easily.\n",
    "\n",
    "\n",
    "2. Explain the difference between mutable and immutable data types with examples.\n",
    "\n",
    "\n",
    "   - Mutable: objects/container whose state or value can be changed after they are created are\n",
    "     called as mutable objects or container, list is a type of mutable object/supports item assignment (e.g., list,       dictionary, set) and the otherhand objects/container whose state or value can not be changed after they are created are called as immutable objects or container, string is a type of immutable object/ doesn't supports item assignment (e.g., tuple, string, int).\n",
    "\n",
    "\n",
    "\n",
    "3. What are the main differences between lists and tuples in Python.\n",
    "\n",
    "\n",
    "   - we can store anything in list also store heterogenous data,\n",
    "      list is an ordered collection of elements that can be of any data type\n",
    "      lists are mutable and Tuples are ordered collection of elements, heterogenous\n",
    "      Tuples are immutable.\n",
    "\n",
    "\n",
    "\n",
    "4.  Describe how dictionaries store data.\n",
    "\n",
    "\n",
    "   - Dictionary is a data structure that stores data as key value pair\n",
    "      Keys are unique and immutable and letting you quickly access a value using its key.\n",
    "\n",
    "\n",
    "\n",
    "5.  Why might you use a set instead of a list in Python ?\n",
    "\n",
    "\n",
    "   - Sets store unique, unordered elements. Use them for removing duplicates or checking\n",
    "      membership quickly.\n",
    "\n",
    "\n",
    "6.  What is a string in Python, and how is it different from a list ?\n",
    "\n",
    "\n",
    "   - strings are specialized for text data and cannot be changed, while lists are general-purpose containers that can hold anything and be modified. This makes strings perfect for textual data that doesn't change frequently, while lists are ideal for collections of data that need to be updated or manipulated\n",
    "\n",
    "\n",
    "\n",
    "7. How do tuples ensure data integrity in Python ?\n",
    "\n",
    "    - Tuples in Python are immutable, ordered collections that protect data integrity by preventing any in-place changes. Their immutability makes them hashable, thread-safe without locks, and ensures predictable, bug-resistant behavior.\n",
    "\n",
    "\n",
    "\n",
    "8. What is a hash table, and how does it relate to dictionaries in Python ?\n",
    "\n",
    "    - A hash table is a data structure that stores key-value pairs using a hash function; Python dictionaries use hash tables internally.\n",
    "\n",
    "\n",
    "\n",
    "9. Can lists contain different data types in Python.\n",
    "\n",
    "    -  Yes, lists can hold elements of different types, such as integers, strings, and floats together.\n",
    "\n",
    "\n",
    "\n",
    "10. Explain why strings are immutable in Python.\n",
    "\n",
    "    - Strings are immutable to ensure reliability and allow memory optimization (like sharing the same string between variables).\n",
    "\n",
    "\n",
    "\n",
    "11. What advantages do dictionaries offer over lists for certain tasks.\n",
    "\n",
    "    - Dictionaries allow fast access via keys (like names); with lists, access is only by position, so it's slower for searching specific data.\n",
    "\n",
    "\n",
    "\n",
    "12. Describe a scenario where using a tuple would be preferable over a list.\n",
    "\n",
    "    -  if you are storing the coordinates of a point (x, y), using a tuple ensures that the x and y values are not accidentally modified after the point is created. Tuples are also generally faster than lists and can be used as keys in dictionaries because of their immutability.\n",
    "\n",
    "\n",
    "\n",
    "13. How do sets handle duplicate values in Python ?\n",
    "\n",
    "    - Sets automatically remove duplicate values; only unique items are stored.\n",
    "\n",
    "\n",
    "\n",
    "14. How does the “in” keyword work differently for lists and dictionaries.\n",
    "\n",
    "    - For lists, “in” checks if a value exists in the list. For dictionaries, “in” checks if a key exists in the dictionary (not the value).\n",
    "\n",
    "\n",
    "\n",
    "15. Can you modify the elements of a tuple? Explain why or why not.\n",
    "\n",
    "    - No, we cannot modify the elements of a tuple because it's immutable nature.\n",
    "\n",
    "\n",
    "\n",
    "16. What is a nested dictionary, and give an example of its use case.\n",
    "\n",
    "     - A nested dictionary uses another dictionary as a value. Useful for storing data like student records: {'student1': {'name': 'A', 'age': 20}}.\n",
    "\n",
    "\n",
    "\n",
    "17. Describe the time complexity of accessing elements in a dictionary.\n",
    "\n",
    "\n",
    "   - Accessing elements by key in a dictionary is generally O1 , or constant time.\n",
    "\n",
    "\n",
    "\n",
    "18. In what situations are lists preferred over dictionaries\n",
    "\n",
    "\n",
    "   - Lists are better when you need to store ordered data or allow duplicates, or need index based access.\n",
    "\n",
    "\n",
    "\n",
    "19. Why are dictionaries considered unordered, and how does that affect data retrieval.\n",
    "\n",
    "   - Dictionaries donʼt store items in a fixed order (in older Python versions), so data retrieval order is not guaranteed.\n",
    "\n",
    "\n",
    "\n",
    "20. Explain the difference between a list and a dictionary in terms of data retrieval.\n",
    "\n",
    "   - Lists use numerical indices for retrieval, while dictionaries use keys. Accessing by key in a dictionary is generally faster."
   ]
  },
  {
   "cell_type": "markdown",
   "id": "52ab712dae5658c1",
   "metadata": {},
   "source": [
    "#### **Practical Questions**"
   ]
  },
  {
   "cell_type": "code",
   "execution_count": 1,
   "id": "d76e2bbb2f3079dc",
   "metadata": {
    "ExecuteTime": {
     "end_time": "2025-09-20T16:50:09.492107Z",
     "start_time": "2025-09-20T16:50:09.481091Z"
    }
   },
   "outputs": [
    {
     "name": "stdout",
     "output_type": "stream",
     "text": [
      "Your Name\n"
     ]
    }
   ],
   "source": [
    "# 1. Write a code to create a string with your name and print it.\n",
    "name = \"Your Name\"\n",
    "print(name)"
   ]
  },
  {
   "cell_type": "code",
   "execution_count": 2,
   "id": "5ebfbc0f74fd4b72",
   "metadata": {
    "ExecuteTime": {
     "end_time": "2025-09-20T16:50:09.560172Z",
     "start_time": "2025-09-20T16:50:09.548338Z"
    }
   },
   "outputs": [
    {
     "name": "stdout",
     "output_type": "stream",
     "text": [
      "11\n"
     ]
    }
   ],
   "source": [
    "#2. Write a code to find the length of the string \"Hello World\".\n",
    "s = \"Hello World\"\n",
    "print(len(s))"
   ]
  },
  {
   "cell_type": "code",
   "execution_count": 3,
   "id": "35796ce868bd45f",
   "metadata": {
    "ExecuteTime": {
     "end_time": "2025-09-20T16:50:09.629053Z",
     "start_time": "2025-09-20T16:50:09.617758Z"
    }
   },
   "outputs": [
    {
     "name": "stdout",
     "output_type": "stream",
     "text": [
      "Pyt\n"
     ]
    }
   ],
   "source": [
    "#3. Write a code to slice the first 3 characters from the string \"Python Programming\".\n",
    "txt = \"Python Programming\"\n",
    "print(txt[:3])"
   ]
  },
  {
   "cell_type": "code",
   "execution_count": 4,
   "id": "9d0ad1f7af34ebf",
   "metadata": {
    "ExecuteTime": {
     "end_time": "2025-09-20T16:50:09.692014Z",
     "start_time": "2025-09-20T16:50:09.679335Z"
    }
   },
   "outputs": [
    {
     "name": "stdout",
     "output_type": "stream",
     "text": [
      "HELLO\n"
     ]
    }
   ],
   "source": [
    "#4. Write a code to convert the string \"hello\" to uppercase.\n",
    "word = \"hello\"\n",
    "print(word.upper())"
   ]
  },
  {
   "cell_type": "code",
   "execution_count": 5,
   "id": "989bafebca52ac9d",
   "metadata": {
    "ExecuteTime": {
     "end_time": "2025-09-20T16:50:09.751018Z",
     "start_time": "2025-09-20T16:50:09.735609Z"
    }
   },
   "outputs": [
    {
     "name": "stdout",
     "output_type": "stream",
     "text": [
      "I like orange\n"
     ]
    }
   ],
   "source": [
    "#5. Write a code to replace the word \"apple\" with \"orange\" in the string \"I like apple\".\n",
    "sentence = \"I like apple\"\n",
    "print(sentence.replace(\"apple\", \"orange\"))"
   ]
  },
  {
   "cell_type": "code",
   "execution_count": 6,
   "id": "2a1e9761426adc2e",
   "metadata": {
    "ExecuteTime": {
     "end_time": "2025-09-20T16:50:09.862212Z",
     "start_time": "2025-09-20T16:50:09.793041Z"
    }
   },
   "outputs": [
    {
     "name": "stdout",
     "output_type": "stream",
     "text": [
      "[1, 2, 3, 4, 5]\n"
     ]
    }
   ],
   "source": [
    "# 6. Write a code to create a list with numbers 1 to 5 and print it.\n",
    "nums = [1, 2, 3, 4, 5]\n",
    "print(nums)"
   ]
  },
  {
   "cell_type": "code",
   "execution_count": 7,
   "id": "31fae16b4af6352",
   "metadata": {
    "ExecuteTime": {
     "end_time": "2025-09-20T16:50:10.039196Z",
     "start_time": "2025-09-20T16:50:10.028042Z"
    }
   },
   "outputs": [
    {
     "name": "stdout",
     "output_type": "stream",
     "text": [
      "[1, 2, 3, 4, 10]\n"
     ]
    }
   ],
   "source": [
    "#7. Write a code to append the number 10 to the list [1, 2, 3, 4]\n",
    "lst = [1, 2, 3, 4]\n",
    "lst.append(10)\n",
    "print(lst)"
   ]
  },
  {
   "cell_type": "code",
   "execution_count": 8,
   "id": "ac8fc832b23676d8",
   "metadata": {
    "ExecuteTime": {
     "end_time": "2025-09-20T16:50:10.148723Z",
     "start_time": "2025-09-20T16:50:10.134672Z"
    }
   },
   "outputs": [
    {
     "name": "stdout",
     "output_type": "stream",
     "text": [
      "[1, 2, 4, 5]\n"
     ]
    }
   ],
   "source": [
    "#8. Write a code to remove the number 3 from the list [1, 2, 3, 4, 5]\n",
    "lst = [1, 2, 3, 4, 5]\n",
    "lst.remove(3)\n",
    "print(lst)"
   ]
  },
  {
   "cell_type": "code",
   "execution_count": 9,
   "id": "6fa3c2605c3a0f94",
   "metadata": {
    "ExecuteTime": {
     "end_time": "2025-09-20T16:50:10.280161Z",
     "start_time": "2025-09-20T16:50:10.269805Z"
    }
   },
   "outputs": [
    {
     "name": "stdout",
     "output_type": "stream",
     "text": [
      "b\n"
     ]
    }
   ],
   "source": [
    "#9. Write a code to access the second element in the list ['a', 'b', 'c', 'd']\n",
    "elements = ['a', 'b', 'c', 'd']\n",
    "print(elements[1])"
   ]
  },
  {
   "cell_type": "code",
   "execution_count": 10,
   "id": "9a9c749ea7cb29b4",
   "metadata": {
    "ExecuteTime": {
     "end_time": "2025-09-20T16:50:10.338578Z",
     "start_time": "2025-09-20T16:50:10.329754Z"
    }
   },
   "outputs": [
    {
     "name": "stdout",
     "output_type": "stream",
     "text": [
      "[50, 40, 30, 20, 10]\n"
     ]
    }
   ],
   "source": [
    "#10. Write a code to reverse the list [10, 20, 30, 40, 50].\n",
    "nums = [10, 20, 30, 40, 50]\n",
    "nums.reverse()\n",
    "print(nums)"
   ]
  },
  {
   "cell_type": "code",
   "execution_count": 11,
   "id": "8454677cec1e5cb9",
   "metadata": {
    "ExecuteTime": {
     "end_time": "2025-09-20T16:50:10.443615Z",
     "start_time": "2025-09-20T16:50:10.431089Z"
    }
   },
   "outputs": [
    {
     "name": "stdout",
     "output_type": "stream",
     "text": [
      "(100, 200, 300)\n"
     ]
    }
   ],
   "source": [
    "#11. Write a code to create a tuple with the elements 100, 200, 300 and print it.\n",
    "t = (100, 200, 300)\n",
    "print(t)"
   ]
  },
  {
   "cell_type": "code",
   "execution_count": 12,
   "id": "70ee64d10cf6c754",
   "metadata": {
    "ExecuteTime": {
     "end_time": "2025-09-20T16:50:10.756113Z",
     "start_time": "2025-09-20T16:50:10.508415Z"
    }
   },
   "outputs": [
    {
     "name": "stdout",
     "output_type": "stream",
     "text": [
      "blue\n"
     ]
    }
   ],
   "source": [
    "#12. Write a code to access the second-to-last element of the tuple ('red', 'green', 'blue', 'yellow').\n",
    "colors = ('red', 'green', 'blue', 'yellow')\n",
    "print(colors[-2])"
   ]
  },
  {
   "cell_type": "code",
   "execution_count": 13,
   "id": "89f0fc5e6a094133",
   "metadata": {
    "ExecuteTime": {
     "end_time": "2025-09-20T16:50:10.811805Z",
     "start_time": "2025-09-20T16:50:10.802348Z"
    }
   },
   "outputs": [
    {
     "name": "stdout",
     "output_type": "stream",
     "text": [
      "5\n"
     ]
    }
   ],
   "source": [
    "#13. Write a code to find the minimum number in the tuple (10, 20, 5, 15).\n",
    "numbers = (10, 20, 5, 15)\n",
    "print(min(numbers))"
   ]
  },
  {
   "cell_type": "code",
   "execution_count": 14,
   "id": "4775d98d2775eb18",
   "metadata": {
    "ExecuteTime": {
     "end_time": "2025-09-20T16:50:10.871374Z",
     "start_time": "2025-09-20T16:50:10.861380Z"
    }
   },
   "outputs": [
    {
     "name": "stdout",
     "output_type": "stream",
     "text": [
      "1\n"
     ]
    }
   ],
   "source": [
    "#14. Write a code to find the index of the element \"cat\" in the tuple ('dog', 'cat', 'rabbit').\n",
    "animals = ('dog', 'cat', 'rabbit')\n",
    "print(animals.index('cat'))"
   ]
  },
  {
   "cell_type": "code",
   "execution_count": 15,
   "id": "bcfb6a05a2e1a6aa",
   "metadata": {
    "ExecuteTime": {
     "end_time": "2025-09-20T16:50:10.980446Z",
     "start_time": "2025-09-20T16:50:10.970801Z"
    }
   },
   "outputs": [
    {
     "name": "stdout",
     "output_type": "stream",
     "text": [
      "False\n"
     ]
    }
   ],
   "source": [
    "#15. Write a code to create a tuple containing three different fruits and check if \"kiwi\" is in it.\n",
    "fruits = ('apple', 'banana', 'mango')\n",
    "print('kiwi' in fruits)"
   ]
  },
  {
   "cell_type": "code",
   "execution_count": 16,
   "id": "7b491aa2259f2fd5",
   "metadata": {
    "ExecuteTime": {
     "end_time": "2025-09-20T16:50:11.098095Z",
     "start_time": "2025-09-20T16:50:11.089711Z"
    }
   },
   "outputs": [
    {
     "name": "stdout",
     "output_type": "stream",
     "text": [
      "{'b', 'a', 'c'}\n"
     ]
    }
   ],
   "source": [
    "#16. Write a code to create a set with the elements 'a', 'b', 'c' and print it.\n",
    "s = {'a', 'b', 'c'}\n",
    "print(s)"
   ]
  },
  {
   "cell_type": "code",
   "execution_count": 17,
   "id": "1772ff562f470b16",
   "metadata": {
    "ExecuteTime": {
     "end_time": "2025-09-20T16:50:11.264298Z",
     "start_time": "2025-09-20T16:50:11.253384Z"
    }
   },
   "outputs": [
    {
     "name": "stdout",
     "output_type": "stream",
     "text": [
      "set()\n"
     ]
    }
   ],
   "source": [
    "#17. Write a code to clear all elements from the set {1, 2, 3, 4, 5}.\n",
    "s = {1, 2, 3, 4, 5}\n",
    "s.clear()\n",
    "print(s)"
   ]
  },
  {
   "cell_type": "code",
   "execution_count": 18,
   "id": "9e9d6741329968e5",
   "metadata": {
    "ExecuteTime": {
     "end_time": "2025-09-20T16:50:11.474558Z",
     "start_time": "2025-09-20T16:50:11.450470Z"
    }
   },
   "outputs": [
    {
     "name": "stdout",
     "output_type": "stream",
     "text": [
      "{1, 2, 3}\n"
     ]
    }
   ],
   "source": [
    "#18. Write a code to remove the element 4 from the set {1, 2, 3, 4}.\n",
    "s = {1, 2, 3, 4}\n",
    "s.remove(4)\n",
    "print(s)"
   ]
  },
  {
   "cell_type": "code",
   "execution_count": 19,
   "id": "423bbb31b8d317f",
   "metadata": {
    "ExecuteTime": {
     "end_time": "2025-09-20T16:50:11.700592Z",
     "start_time": "2025-09-20T16:50:11.692618Z"
    }
   },
   "outputs": [
    {
     "name": "stdout",
     "output_type": "stream",
     "text": [
      "{1, 2, 3, 4, 5}\n"
     ]
    }
   ],
   "source": [
    "#19. Write a code to find the union of two sets {1, 2, 3} and {3, 4, 5}.\n",
    "a = {1, 2, 3}\n",
    "b = {3, 4, 5}\n",
    "print(a.union(b))"
   ]
  },
  {
   "cell_type": "code",
   "execution_count": 20,
   "id": "1263b4a71bb8dd06",
   "metadata": {
    "ExecuteTime": {
     "end_time": "2025-09-20T16:50:11.858479Z",
     "start_time": "2025-09-20T16:50:11.846896Z"
    }
   },
   "outputs": [
    {
     "name": "stdout",
     "output_type": "stream",
     "text": [
      "{2, 3}\n"
     ]
    }
   ],
   "source": [
    "#20. Write a code to find the intersection of two sets {1, 2, 3} and {2, 3, 4}.\n",
    "a = {1, 2, 3}\n",
    "b = {2, 3, 4}\n",
    "print(a.intersection(b))"
   ]
  },
  {
   "cell_type": "code",
   "execution_count": 21,
   "id": "6b5dfcdac510ec1f",
   "metadata": {
    "ExecuteTime": {
     "end_time": "2025-09-20T16:50:12.004608Z",
     "start_time": "2025-09-20T16:50:11.988180Z"
    }
   },
   "outputs": [
    {
     "name": "stdout",
     "output_type": "stream",
     "text": [
      "{'name': 'John', 'age': 25, 'city': 'New York'}\n"
     ]
    }
   ],
   "source": [
    "#21. Write a code to create a dictionary with the keys \"name\", \"age\", and \"city\", and print it.\n",
    "d = {\"name\": \"John\", \"age\": 25, \"city\": \"New York\"}\n",
    "print(d)"
   ]
  },
  {
   "cell_type": "code",
   "execution_count": 22,
   "id": "4079833664ddbe35",
   "metadata": {
    "ExecuteTime": {
     "end_time": "2025-09-20T16:50:12.216610Z",
     "start_time": "2025-09-20T16:50:12.197990Z"
    }
   },
   "outputs": [
    {
     "name": "stdout",
     "output_type": "stream",
     "text": [
      "{'name': 'John', 'age': 25, 'country': 'USA'}\n"
     ]
    }
   ],
   "source": [
    "#22. Write a code to add a new key-value pair \"country\": \"USA\" to the dictionary {'name': 'John', 'age': 25}.\n",
    "d = {'name': 'John', 'age': 25}\n",
    "d['country'] = 'USA'\n",
    "print(d)"
   ]
  },
  {
   "cell_type": "code",
   "execution_count": 23,
   "id": "bbb952832acd2c67",
   "metadata": {
    "ExecuteTime": {
     "end_time": "2025-09-20T16:50:12.356254Z",
     "start_time": "2025-09-20T16:50:12.344103Z"
    }
   },
   "outputs": [
    {
     "name": "stdout",
     "output_type": "stream",
     "text": [
      "Alice\n"
     ]
    }
   ],
   "source": [
    "#23. Write a code to access the value associated with the key \"name\" in the dictionary {'name': 'Alice', 'age': 30}.\n",
    "d = {'name': 'Alice', 'age': 30}\n",
    "print(d['name'])"
   ]
  },
  {
   "cell_type": "code",
   "execution_count": 24,
   "id": "494384db38355b8a",
   "metadata": {
    "ExecuteTime": {
     "end_time": "2025-09-20T16:50:12.524183Z",
     "start_time": "2025-09-20T16:50:12.513604Z"
    }
   },
   "outputs": [
    {
     "name": "stdout",
     "output_type": "stream",
     "text": [
      "{'name': 'Bob', 'city': 'New York'}\n"
     ]
    }
   ],
   "source": [
    "#24. Write a code to remove the key \"age\" from the dictionary {'name': 'Bob', 'age': 22, 'city': 'New York'}.\n",
    "d = {'name': 'Bob', 'age': 22, 'city': 'New York'}\n",
    "del d['age']\n",
    "print(d)"
   ]
  },
  {
   "cell_type": "code",
   "execution_count": 25,
   "id": "c6395c29f9161f49",
   "metadata": {
    "ExecuteTime": {
     "end_time": "2025-09-20T16:50:12.604906Z",
     "start_time": "2025-09-20T16:50:12.593959Z"
    }
   },
   "outputs": [
    {
     "name": "stdout",
     "output_type": "stream",
     "text": [
      "True\n"
     ]
    }
   ],
   "source": [
    "#25. Write a code to check if the key \"city\" exists in the dictionary {'name': 'Alice', 'city': 'Paris'}.\n",
    "d = {'name': 'Alice', 'city': 'Paris'}\n",
    "print('city' in d)"
   ]
  },
  {
   "cell_type": "code",
   "execution_count": 26,
   "id": "5a02d80cef31c5b0",
   "metadata": {
    "ExecuteTime": {
     "end_time": "2025-09-20T16:50:12.707818Z",
     "start_time": "2025-09-20T16:50:12.694734Z"
    }
   },
   "outputs": [
    {
     "name": "stdout",
     "output_type": "stream",
     "text": [
      "[1, 2, 3] (4, 5, 6) {'a': 10, 'b': 20}\n"
     ]
    }
   ],
   "source": [
    "#26. Write a code to create a list, a tuple, and a dictionary, and print them all.\n",
    "my_list = [1, 2, 3]\n",
    "my_tuple = (4, 5, 6)\n",
    "my_dict = {'a': 10, 'b': 20}\n",
    "print(my_list, my_tuple, my_dict)"
   ]
  },
  {
   "cell_type": "code",
   "execution_count": 27,
   "id": "65eadc13834753bd",
   "metadata": {
    "ExecuteTime": {
     "end_time": "2025-09-20T16:50:12.767230Z",
     "start_time": "2025-09-20T16:50:12.757690Z"
    }
   },
   "outputs": [
    {
     "name": "stdout",
     "output_type": "stream",
     "text": [
      "[11, 29, 38, 51, 85]\n"
     ]
    }
   ],
   "source": [
    "#27. Write a code to create a list of 5 random numbers between 1 and 100, sort it in ascending order, and print the result.(replaced)\n",
    "import random\n",
    "numbers = random.sample(range(1, 101), 5)\n",
    "numbers.sort()\n",
    "print(numbers)"
   ]
  },
  {
   "cell_type": "code",
   "execution_count": 28,
   "id": "a722cd1542eb791a",
   "metadata": {
    "ExecuteTime": {
     "end_time": "2025-09-20T16:50:12.825582Z",
     "start_time": "2025-09-20T16:50:12.813766Z"
    }
   },
   "outputs": [
    {
     "name": "stdout",
     "output_type": "stream",
     "text": [
      "date\n"
     ]
    }
   ],
   "source": [
    "#28. Write a code to create a list with strings and print the element at the third index.\n",
    "words = [\"apple\", \"banana\", \"cherry\", \"date\", \"fig\"]\n",
    "print(words[3])"
   ]
  },
  {
   "cell_type": "code",
   "execution_count": 29,
   "id": "86cef1382d6ca778",
   "metadata": {
    "ExecuteTime": {
     "end_time": "2025-09-20T16:50:12.894583Z",
     "start_time": "2025-09-20T16:50:12.884272Z"
    }
   },
   "outputs": [
    {
     "name": "stdout",
     "output_type": "stream",
     "text": [
      "{'a': 1, 'b': 2, 'c': 3, 'd': 4}\n"
     ]
    }
   ],
   "source": [
    "\n",
    "#29. Write a code to combine two dictionaries into one and print the result.\n",
    "d1 = {'a': 1, 'b': 2}\n",
    "d2 = {'c': 3, 'd': 4}\n",
    "d_combined = {**d1, **d2}\n",
    "print(d_combined)"
   ]
  },
  {
   "cell_type": "code",
   "execution_count": 30,
   "id": "34124e91f8c04538",
   "metadata": {
    "ExecuteTime": {
     "end_time": "2025-09-20T16:50:12.954444Z",
     "start_time": "2025-09-20T16:50:12.944374Z"
    }
   },
   "outputs": [
    {
     "name": "stdout",
     "output_type": "stream",
     "text": [
      "{'b', 'a', 'c'}\n"
     ]
    }
   ],
   "source": [
    "#30. Write a code to convert a list of strings into a set.\n",
    "str_list = ['a', 'b', 'c', 'a']\n",
    "print(set(str_list))\n"
   ]
  }
 ],
 "metadata": {
  "kernelspec": {
   "display_name": "Python 3 (ipykernel)",
   "language": "python",
   "name": "python3"
  },
  "language_info": {
   "codemirror_mode": {
    "name": "ipython",
    "version": 3
   },
   "file_extension": ".py",
   "mimetype": "text/x-python",
   "name": "python",
   "nbconvert_exporter": "python",
   "pygments_lexer": "ipython3",
   "version": "3.13.5"
  }
 },
 "nbformat": 4,
 "nbformat_minor": 5
}
